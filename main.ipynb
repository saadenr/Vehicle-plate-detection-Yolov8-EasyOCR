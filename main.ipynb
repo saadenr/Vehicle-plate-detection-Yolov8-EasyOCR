{
 "cells": [
  {
   "cell_type": "code",
   "execution_count": 1,
   "metadata": {},
   "outputs": [],
   "source": [
    "from sort.sort import Sort\n",
    "\n",
    "mot_tracker = Sort()"
   ]
  },
  {
   "cell_type": "code",
   "execution_count": 2,
   "metadata": {},
   "outputs": [],
   "source": [
    "from ultralytics import YOLO\n",
    "import cv2\n",
    "import numpy as np"
   ]
  },
  {
   "cell_type": "code",
   "execution_count": 3,
   "metadata": {},
   "outputs": [
    {
     "name": "stderr",
     "output_type": "stream",
     "text": [
      "Using CPU. Note: This module is much faster with a GPU.\n"
     ]
    }
   ],
   "source": [
    "from util import get_car, read_license_plate, write_csv"
   ]
  },
  {
   "cell_type": "markdown",
   "metadata": {},
   "source": [
    "### Load models"
   ]
  },
  {
   "cell_type": "code",
   "execution_count": 4,
   "metadata": {},
   "outputs": [],
   "source": [
    "coco_model = YOLO('./models/yolov8n.pt')\n",
    "license_plate_detector = YOLO('./models/license_plate_detector.pt')"
   ]
  },
  {
   "cell_type": "markdown",
   "metadata": {},
   "source": [
    "### Load video"
   ]
  },
  {
   "cell_type": "code",
   "execution_count": 5,
   "metadata": {},
   "outputs": [],
   "source": [
    "capture = cv2.VideoCapture('./data/sample.mp4')"
   ]
  },
  {
   "cell_type": "markdown",
   "metadata": {},
   "source": [
    "### Read frames"
   ]
  },
  {
   "cell_type": "code",
   "execution_count": 6,
   "metadata": {},
   "outputs": [
    {
     "name": "stdout",
     "output_type": "stream",
     "text": [
      "\n",
      "0: 384x640 25 cars, 1 bus, 2 trucks, 64.0ms\n",
      "Speed: 15.6ms preprocess, 64.0ms inference, 0.0ms postprocess per image at shape (1, 3, 384, 640)\n",
      "\n",
      "0: 384x640 2 license_plates, 66.4ms\n",
      "Speed: 0.0ms preprocess, 66.4ms inference, 0.0ms postprocess per image at shape (1, 3, 384, 640)\n",
      "\n",
      "0: 384x640 25 cars, 1 bus, 2 trucks, 59.2ms\n",
      "Speed: 0.0ms preprocess, 59.2ms inference, 1.0ms postprocess per image at shape (1, 3, 384, 640)\n",
      "\n",
      "0: 384x640 2 license_plates, 56.5ms\n",
      "Speed: 2.0ms preprocess, 56.5ms inference, 1.0ms postprocess per image at shape (1, 3, 384, 640)\n",
      "\n",
      "0: 384x640 25 cars, 1 bus, 71.1ms\n",
      "Speed: 0.0ms preprocess, 71.1ms inference, 1.0ms postprocess per image at shape (1, 3, 384, 640)\n",
      "\n",
      "0: 384x640 2 license_plates, 56.0ms\n",
      "Speed: 0.0ms preprocess, 56.0ms inference, 1.0ms postprocess per image at shape (1, 3, 384, 640)\n",
      "{'car': {'bbox': [902.8524169921875, 1410.2977294921875, 1520.022705078125, 1936.4622802734375]}, 'license_plate': {'bbox': [1104.6693115234375, 1723.4132080078125, 1296.2958984375, 1813.9163818359375], 'text': 'KH05ZZK', 'bbox_score': 0.6054760813713074, 'text_score': 0.3870224733781686}}\n",
      "{'car': {'bbox': [2097.62060546875, 1568.061767578125, 2840.365234375, 2146.1318359375]}, 'license_plate': {'bbox': [2346.15625, 1943.9234619140625, 2603.3818359375, 2039.1793212890625], 'text': 'AP05JEO', 'bbox_score': 0.5249418020248413, 'text_score': 0.47720786101070506}}\n",
      "{'car': {'bbox': [2106.30353011825, 1574.0997410768969, 2839.281160050423, 2146.291363486787]}, 'license_plate': {'bbox': [2361.232421875, 1960.259033203125, 2603.1455078125, 2042.904052734375], 'text': 'AP05JEQ', 'bbox_score': 0.538175642490387, 'text_score': 0.2524638169422864}}\n",
      "{'car': {'bbox': [886.7552874132055, 1412.36851902875, 1519.9665927205444, 1942.4727652454915]}, 'license_plate': {'bbox': [1094.9000244140625, 1729.906494140625, 1292.8333740234375, 1817.599365234375], 'text': 'KH05ZZK', 'bbox_score': 0.6397984027862549, 'text_score': 0.24635557072798198}}\n"
     ]
    }
   ],
   "source": [
    "results = {}\n",
    "\n",
    "vehicles = [2, 3, 5, 7]\n",
    "\n",
    "# read frames\n",
    "frame_nmr = -1\n",
    "ret = True\n",
    "while ret:\n",
    "    frame_nmr += 1\n",
    "    ret, frame = capture.read()\n",
    "    if ret and frame_nmr < 3: # I will take just the first 3 frames to test ...\n",
    "        results[frame_nmr] = {}\n",
    "        # detect vehicles\n",
    "        detections = coco_model(frame)[0]\n",
    "        detections_ = []\n",
    "        for detection in detections.boxes.data.tolist():\n",
    "            x1, y1, x2, y2, score, class_id = detection\n",
    "            if int(class_id) in vehicles:\n",
    "                detections_.append([x1, y1, x2, y2, score])\n",
    "\n",
    "        # track vehicles\n",
    "        track_ids = mot_tracker.update(np.asarray(detections_))\n",
    "\n",
    "        # detect license plates\n",
    "        license_plates = license_plate_detector(frame)[0]\n",
    "        for license_plate in license_plates.boxes.data.tolist():\n",
    "            x1, y1, x2, y2, score, class_id = license_plate\n",
    "\n",
    "            # assign license plate to car\n",
    "            xcar1, ycar1, xcar2, ycar2, car_id = get_car(license_plate, track_ids)\n",
    "\n",
    "            if car_id != -1:\n",
    "\n",
    "                # crop license plate\n",
    "                license_plate_crop = frame[int(y1):int(y2), int(x1): int(x2), :]\n",
    "\n",
    "                # process license plate\n",
    "                license_plate_crop_gray = cv2.cvtColor(license_plate_crop, cv2.COLOR_BGR2GRAY)\n",
    "                _, license_plate_crop_thresh = cv2.threshold(license_plate_crop_gray, 64, 255, cv2.THRESH_BINARY_INV)\n",
    "\n",
    "                # read license plate number\n",
    "                license_plate_text, license_plate_text_score = read_license_plate(license_plate_crop_thresh)\n",
    "\n",
    "                if license_plate_text is not None:\n",
    "                    results[frame_nmr][car_id] = {'car': {'bbox': [xcar1, ycar1, xcar2, ycar2]},\n",
    "                                                  'license_plate': {'bbox': [x1, y1, x2, y2],\n",
    "                                                                    'text': license_plate_text,\n",
    "                                                                    'bbox_score': score,\n",
    "                                                                    'text_score': license_plate_text_score}}\n",
    "\n",
    "# write results\n",
    "write_csv(results, './data/test.csv')"
   ]
  }
 ],
 "metadata": {
  "kernelspec": {
   "display_name": "Python 3",
   "language": "python",
   "name": "python3"
  },
  "language_info": {
   "codemirror_mode": {
    "name": "ipython",
    "version": 3
   },
   "file_extension": ".py",
   "mimetype": "text/x-python",
   "name": "python",
   "nbconvert_exporter": "python",
   "pygments_lexer": "ipython3",
   "version": "3.10.8"
  }
 },
 "nbformat": 4,
 "nbformat_minor": 2
}
